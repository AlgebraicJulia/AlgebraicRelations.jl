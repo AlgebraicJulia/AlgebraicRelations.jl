{
 "cells": [
  {
   "cell_type": "code",
   "execution_count": null,
   "metadata": {},
   "outputs": [],
   "source": [
    "# Import necessary libraries\n",
    "using AlgebraicRelations.DB, \n",
    "      AlgebraicRelations.Queries, \n",
    "      AlgebraicRelations.Interface, \n",
    "      AlgebraicRelations.Presentations;"
   ]
  },
  {
   "cell_type": "markdown",
   "metadata": {},
   "source": [
    "## Define the Schema\n",
    "We need to define the data types, the table column names, and the syntax of our schema"
   ]
  },
  {
   "cell_type": "code",
   "execution_count": null,
   "metadata": {},
   "outputs": [],
   "source": [
    "# Initialize presentation object\n",
    "present = Presentation()\n",
    "\n",
    "# Add types to presentation\n",
    "Person, ID, Name, Salary = add_types!(present, [(:Person, Int),\n",
    "                                          (:ID, Int),\n",
    "                                          (:Name, String),\n",
    "                                          (:Salary, Real)]);\n",
    "\n",
    "# Add Processes to presentation\n",
    "get_employees, get_manager,\n",
    "get_salary, get_name = add_processes!(present, [(:get_employees, Person, ID),\n",
    "                                                (:get_manager, Person, Person),\n",
    "                                                (:get_salary, Person, Salary),\n",
    "                                                (:get_name, Person, Name)]);\n",
    "\n",
    "\n",
    "@present_to_schema Workplace(present);\n",
    "schema = Workplace();"
   ]
  },
  {
   "cell_type": "code",
   "execution_count": null,
   "metadata": {},
   "outputs": [],
   "source": [
    "print(generate_schema_sql(schema));"
   ]
  },
  {
   "cell_type": "markdown",
   "metadata": {},
   "source": [
    "## Generate the Query\n",
    "We are now able to generate queries based off of this schema which we defined."
   ]
  },
  {
   "cell_type": "code",
   "execution_count": null,
   "metadata": {},
   "outputs": [],
   "source": [
    "# We generate a query that gets all employees make a salary within some range\n",
    "q1 = @query schema (emp_name, salary) where \n",
    "                          (p, emp_name, \n",
    "                           salary,\n",
    "                           _sallower, _salupper) begin                       \n",
    "  # Define name relationships\n",
    "  get_name(p, emp_name)\n",
    "  \n",
    "  # Define salary relationships (with input range)\n",
    "  get_salary(p,salary)\n",
    "  <=(salary, _salupper)\n",
    "  >=(salary, _sallower)\n",
    "end;\n",
    "print(to_sql(q1))\n",
    "draw_query(q1)"
   ]
  },
  {
   "cell_type": "code",
   "execution_count": null,
   "metadata": {},
   "outputs": [],
   "source": [
    "# We generate a second query that gets all employees whose managers make a salary within some range\n",
    "q2 = @query schema (emp_name, man_name,salary) where \n",
    "                          (p, m, emp_name, \n",
    "                           man_name, salary, \n",
    "                           _slower, _supper) begin                       \n",
    "  # Define name relationships\n",
    "  get_name(p, emp_name)\n",
    "  get_name(m, man_name)\n",
    "  \n",
    "  # Define manager relationships\n",
    "  get_manager(p,m)\n",
    "    \n",
    "  # Define salary relationships (with input range)\n",
    "  get_salary(m,salary)\n",
    "  <=(salary, _supper)\n",
    "  >=(salary, _slower)\n",
    "end;\n",
    "print(to_sql(q2))\n",
    "draw_query(q2)"
   ]
  }
 ],
 "metadata": {
  "@webio": {
   "lastCommId": null,
   "lastKernelId": null
  },
  "kernelspec": {
   "display_name": "Julia 1.8.3",
   "language": "julia",
   "name": "julia-1.8"
  },
  "language_info": {
   "file_extension": ".jl",
   "mimetype": "application/julia",
   "name": "julia",
   "version": "1.8.3"
  }
 },
 "nbformat": 4,
 "nbformat_minor": 4
}
