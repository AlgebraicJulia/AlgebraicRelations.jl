{
 "cells": [
  {
   "cell_type": "markdown",
   "metadata": {},
   "source": [
    "# AlgebraicRelations Workflow → Schema example\n",
    "### Purpose\n",
    "This notebook provides an example of how an SQL schema can be directly generated from the definition of a workflow in AlgebraicRelations. Using AlgebraicRelations in this allows for queries to be generated in terms of the processes in the defined workflow."
   ]
  },
  {
   "cell_type": "code",
   "execution_count": null,
   "metadata": {},
   "outputs": [],
   "source": [
    "# We begin by importing necessary libraries\n",
    "using AlgebraicRelations.DB\n",
    "using AlgebraicRelations.Queries\n",
    "using AlgebraicRelations.Presentations\n",
    "using AlgebraicRelations.Interface"
   ]
  },
  {
   "cell_type": "markdown",
   "metadata": {},
   "source": [
    "## Generating Workflow\n",
    "The workflow is defined by types of objects and processes used within the workflow. The types are those of any objects that are generated and passed between the processes of the workflow."
   ]
  },
  {
   "cell_type": "code",
   "execution_count": null,
   "metadata": {},
   "outputs": [],
   "source": [
    "# Initialize presentation object\n",
    "present = Presentation()\n",
    "\n",
    "# Add types to presentation\n",
    "Files, Images, NeuralNet,\n",
    "       Accuracy, Metadata = add_types!(present, [(:Files, String),\n",
    "                                            (:Images, String),\n",
    "                                            (:NeuralNet, String),\n",
    "                                            (:Accuracy, Real),\n",
    "                                            (:Metadata, String)]);\n",
    "\n",
    "# Add Processes to presentation\n",
    "extract, split, train, evaluate = add_processes!(present, [(:extract, Files, Images),\n",
    "                                                      (:split, Images, Images⊗Images),\n",
    "                                                      (:train, NeuralNet⊗Images, NeuralNet⊗Metadata),\n",
    "                                                      (:evaluate, NeuralNet⊗Images, Accuracy⊗Metadata)]);\n",
    "# Convert to Schema\n",
    "@present_to_schema TrainDB(present);\n",
    "draw_schema(present)"
   ]
  },
  {
   "cell_type": "code",
   "execution_count": null,
   "metadata": {},
   "outputs": [],
   "source": [
    "print(generate_schema_sql(TrainDB()))"
   ]
  },
  {
   "cell_type": "markdown",
   "metadata": {},
   "source": [
    "## Visualizing Workflow\n",
    "While this visualization currently does not play a role in defining the schema, it can be useful to visually ensure that every piece of the workflow is included."
   ]
  },
  {
   "cell_type": "code",
   "execution_count": null,
   "metadata": {},
   "outputs": [],
   "source": [
    "p = @program present (nn::NeuralNet, file::Files) begin\n",
    "    images = extract(file)\n",
    "    im_train, im_test = split(images)\n",
    "    trained_nn, _ = train(nn, im_train)\n",
    "    acc, _ = evaluate(trained_nn, im_test)\n",
    "    return acc\n",
    "end;\n",
    "draw_workflow(p)"
   ]
  },
  {
   "cell_type": "markdown",
   "metadata": {},
   "source": [
    "### ACSet-defined schema\n",
    "The backend of AlgebraicRelations stores the schema as an ACSet (generalized database defined in Catlab.jl). The ACSet generated above looks like the following:\n",
    "```julia\n",
    "@present TrainingSchema <: TheorySQL begin\n",
    "    # Tables\n",
    "    split::Ob\n",
    "    extract::Ob\n",
    "    train::Ob\n",
    "    evaluate::Ob\n",
    "    \n",
    "    # Columns of tables\n",
    "    extract_1_Files1::Attr(extract, String)\n",
    "    extract_2_Images2::Attr(extract, String)\n",
    "    \n",
    "    split_1_Images1::Attr(split, String)\n",
    "    split_2_Images2::Attr(split, String)\n",
    "    split_3_Images3::Attr(split, String)\n",
    "    \n",
    "    train_1_NeuralNet1::Attr(train, NeuralNet)\n",
    "    train_2_Images2::Attr(train, Images)\n",
    "    train_3_NeuralNet3::Attr(train, NeuralNet)\n",
    "    train_4_Metadata4::Attr(train, Metadata)\n",
    "    \n",
    "    evaluate_1_NeuralNet1::Attr(evaluate, NeuralNet)\n",
    "    evaluate_2_Images2::Attr(evaluate, Images)\n",
    "    evaluate_3_Accuracy3::Attr(evaluate, Accuracy)\n",
    "    evaluate_4_Metadata4::Attr(evaluate, Metadata)\n",
    "end;\n",
    "```"
   ]
  },
  {
   "cell_type": "markdown",
   "metadata": {},
   "source": [
    "## Constructing Queries\n",
    "\n",
    "Queries are constructed by providing the appropriate Schema, the objects to be returned, and the objects that are needed in the query. In the `where` statement, we define the types of each object (based on the workflow definition). We then use the processes in the workflow along with comparison operators to construct a query based on relationships between objects.\n",
    "\n",
    "The following query will create a query which generates a table containing all neural network structures, sets of images they were trained, and their accuracies on the test images which performed higher than some base accuracy (`_base_acc`)."
   ]
  },
  {
   "cell_type": "code",
   "execution_count": null,
   "metadata": {},
   "outputs": [],
   "source": [
    "q = @query TrainDB() (im_train, nn, im_test, acc, md2) where (im_train, im_test, nn,\n",
    "                                                              nn_trained, acc, md,\n",
    "                                                              md2, _base_acc, im) begin\n",
    "    train(nn, im_train, nn_trained, md)\n",
    "    evaluate(nn_trained, im_test, acc, md2)\n",
    "    split(im, im_train, im_test)\n",
    "    >=(acc, _base_acc)\n",
    "end\n",
    "print(to_sql(q))\n",
    "draw_query(q)"
   ]
  },
  {
   "cell_type": "markdown",
   "metadata": {},
   "source": [
    "# Querying a PostgreSQL database\n",
    "AlgebraicRelations also provides an interface with `LibPQ.jl` which allows us to query a database directly using the query object. Below is an example of the use of this interface."
   ]
  },
  {
   "cell_type": "code",
   "execution_count": null,
   "metadata": {},
   "outputs": [],
   "source": [
    "conn = Connection(\"dbname=test_wf\");"
   ]
  },
  {
   "cell_type": "code",
   "execution_count": null,
   "metadata": {},
   "outputs": [],
   "source": [
    "statement1 = prepare(conn,q);"
   ]
  },
  {
   "cell_type": "code",
   "execution_count": null,
   "metadata": {},
   "outputs": [],
   "source": [
    "execute(statement1, [0.6])"
   ]
  }
 ],
 "metadata": {
  "@webio": {
   "lastCommId": null,
   "lastKernelId": null
  },
  "kernelspec": {
   "display_name": "Julia 1.8.3",
   "language": "julia",
   "name": "julia-1.8"
  },
  "language_info": {
   "file_extension": ".jl",
   "mimetype": "application/julia",
   "name": "julia",
   "version": "1.8.3"
  }
 },
 "nbformat": 4,
 "nbformat_minor": 2
}
